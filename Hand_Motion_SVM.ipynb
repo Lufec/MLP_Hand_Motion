{
  "nbformat": 4,
  "nbformat_minor": 0,
  "metadata": {
    "colab": {
      "name": "Hand_Motion_SVM.ipynb",
      "provenance": [],
      "authorship_tag": "ABX9TyNfU/hCcXEREupY+5voNZNk",
      "include_colab_link": true
    },
    "kernelspec": {
      "display_name": "Python 3",
      "name": "python3"
    }
  },
  "cells": [
    {
      "cell_type": "markdown",
      "metadata": {
        "id": "view-in-github",
        "colab_type": "text"
      },
      "source": [
        "<a href=\"https://colab.research.google.com/github/Lufec/MLP_Hand_Motion/blob/main/Hand_Motion_SVM.ipynb\" target=\"_parent\"><img src=\"https://colab.research.google.com/assets/colab-badge.svg\" alt=\"Open In Colab\"/></a>"
      ]
    },
    {
      "cell_type": "code",
      "metadata": {
        "id": "HOg6ScSSop-P"
      },
      "source": [
        "import pandas as pd\n",
        "import numpy as np"
      ],
      "execution_count": null,
      "outputs": []
    },
    {
      "cell_type": "code",
      "metadata": {
        "id": "t3Zf0t6zozzf"
      },
      "source": [
        "df = pd.read_csv(\"/content/Postures.csv\")"
      ],
      "execution_count": null,
      "outputs": []
    },
    {
      "cell_type": "code",
      "metadata": {
        "colab": {
          "base_uri": "https://localhost:8080/",
          "height": 214
        },
        "id": "OCwX4H-0o_6a",
        "outputId": "c05aa2e6-0832-466f-c65a-8a49c01cbaeb"
      },
      "source": [
        "df.head(5)"
      ],
      "execution_count": null,
      "outputs": [
        {
          "output_type": "execute_result",
          "data": {
            "text/html": [
              "<div>\n",
              "<style scoped>\n",
              "    .dataframe tbody tr th:only-of-type {\n",
              "        vertical-align: middle;\n",
              "    }\n",
              "\n",
              "    .dataframe tbody tr th {\n",
              "        vertical-align: top;\n",
              "    }\n",
              "\n",
              "    .dataframe thead th {\n",
              "        text-align: right;\n",
              "    }\n",
              "</style>\n",
              "<table border=\"1\" class=\"dataframe\">\n",
              "  <thead>\n",
              "    <tr style=\"text-align: right;\">\n",
              "      <th></th>\n",
              "      <th>Class</th>\n",
              "      <th>User</th>\n",
              "      <th>X0</th>\n",
              "      <th>Y0</th>\n",
              "      <th>Z0</th>\n",
              "      <th>X1</th>\n",
              "      <th>Y1</th>\n",
              "      <th>Z1</th>\n",
              "      <th>X2</th>\n",
              "      <th>Y2</th>\n",
              "      <th>Z2</th>\n",
              "      <th>X3</th>\n",
              "      <th>Y3</th>\n",
              "      <th>Z3</th>\n",
              "      <th>X4</th>\n",
              "      <th>Y4</th>\n",
              "      <th>Z4</th>\n",
              "      <th>X5</th>\n",
              "      <th>Y5</th>\n",
              "      <th>Z5</th>\n",
              "      <th>X6</th>\n",
              "      <th>Y6</th>\n",
              "      <th>Z6</th>\n",
              "      <th>X7</th>\n",
              "      <th>Y7</th>\n",
              "      <th>Z7</th>\n",
              "      <th>X8</th>\n",
              "      <th>Y8</th>\n",
              "      <th>Z8</th>\n",
              "      <th>X9</th>\n",
              "      <th>Y9</th>\n",
              "      <th>Z9</th>\n",
              "      <th>X10</th>\n",
              "      <th>Y10</th>\n",
              "      <th>Z10</th>\n",
              "      <th>X11</th>\n",
              "      <th>Y11</th>\n",
              "      <th>Z11</th>\n",
              "    </tr>\n",
              "  </thead>\n",
              "  <tbody>\n",
              "    <tr>\n",
              "      <th>0</th>\n",
              "      <td>1</td>\n",
              "      <td>0</td>\n",
              "      <td>54.263880</td>\n",
              "      <td>71.466776</td>\n",
              "      <td>-64.807709</td>\n",
              "      <td>76.895635</td>\n",
              "      <td>42.462500</td>\n",
              "      <td>-72.780545</td>\n",
              "      <td>36.621229</td>\n",
              "      <td>81.680557</td>\n",
              "      <td>-52.919272</td>\n",
              "      <td>85.2322638852917</td>\n",
              "      <td>67.7492195028673</td>\n",
              "      <td>-73.684130041833</td>\n",
              "      <td>59.1885757027887</td>\n",
              "      <td>10.6789364098231</td>\n",
              "      <td>-71.2977813147725</td>\n",
              "      <td>?</td>\n",
              "      <td>?</td>\n",
              "      <td>?</td>\n",
              "      <td>?</td>\n",
              "      <td>?</td>\n",
              "      <td>?</td>\n",
              "      <td>?</td>\n",
              "      <td>?</td>\n",
              "      <td>?</td>\n",
              "      <td>?</td>\n",
              "      <td>?</td>\n",
              "      <td>?</td>\n",
              "      <td>?</td>\n",
              "      <td>?</td>\n",
              "      <td>?</td>\n",
              "      <td>?</td>\n",
              "      <td>?</td>\n",
              "      <td>?</td>\n",
              "      <td>?</td>\n",
              "      <td>?</td>\n",
              "      <td>?</td>\n",
              "    </tr>\n",
              "    <tr>\n",
              "      <th>1</th>\n",
              "      <td>1</td>\n",
              "      <td>0</td>\n",
              "      <td>56.527558</td>\n",
              "      <td>72.266609</td>\n",
              "      <td>-61.935252</td>\n",
              "      <td>39.135978</td>\n",
              "      <td>82.538530</td>\n",
              "      <td>-49.596509</td>\n",
              "      <td>79.223743</td>\n",
              "      <td>43.254091</td>\n",
              "      <td>-69.982489</td>\n",
              "      <td>87.4508729469625</td>\n",
              "      <td>68.4008083028339</td>\n",
              "      <td>-70.703990925959</td>\n",
              "      <td>61.5874515532753</td>\n",
              "      <td>11.7799190329758</td>\n",
              "      <td>-68.827417756239</td>\n",
              "      <td>?</td>\n",
              "      <td>?</td>\n",
              "      <td>?</td>\n",
              "      <td>?</td>\n",
              "      <td>?</td>\n",
              "      <td>?</td>\n",
              "      <td>?</td>\n",
              "      <td>?</td>\n",
              "      <td>?</td>\n",
              "      <td>?</td>\n",
              "      <td>?</td>\n",
              "      <td>?</td>\n",
              "      <td>?</td>\n",
              "      <td>?</td>\n",
              "      <td>?</td>\n",
              "      <td>?</td>\n",
              "      <td>?</td>\n",
              "      <td>?</td>\n",
              "      <td>?</td>\n",
              "      <td>?</td>\n",
              "      <td>?</td>\n",
              "    </tr>\n",
              "    <tr>\n",
              "      <th>2</th>\n",
              "      <td>1</td>\n",
              "      <td>0</td>\n",
              "      <td>55.849928</td>\n",
              "      <td>72.469064</td>\n",
              "      <td>-62.562788</td>\n",
              "      <td>37.988804</td>\n",
              "      <td>82.631347</td>\n",
              "      <td>-50.606259</td>\n",
              "      <td>78.451526</td>\n",
              "      <td>43.567403</td>\n",
              "      <td>-70.658489</td>\n",
              "      <td>86.8353875680762</td>\n",
              "      <td>68.9079249764243</td>\n",
              "      <td>-71.1383441365739</td>\n",
              "      <td>61.6864271910576</td>\n",
              "      <td>11.7934398850428</td>\n",
              "      <td>-68.88931646056</td>\n",
              "      <td>?</td>\n",
              "      <td>?</td>\n",
              "      <td>?</td>\n",
              "      <td>?</td>\n",
              "      <td>?</td>\n",
              "      <td>?</td>\n",
              "      <td>?</td>\n",
              "      <td>?</td>\n",
              "      <td>?</td>\n",
              "      <td>?</td>\n",
              "      <td>?</td>\n",
              "      <td>?</td>\n",
              "      <td>?</td>\n",
              "      <td>?</td>\n",
              "      <td>?</td>\n",
              "      <td>?</td>\n",
              "      <td>?</td>\n",
              "      <td>?</td>\n",
              "      <td>?</td>\n",
              "      <td>?</td>\n",
              "      <td>?</td>\n",
              "    </tr>\n",
              "    <tr>\n",
              "      <th>3</th>\n",
              "      <td>1</td>\n",
              "      <td>0</td>\n",
              "      <td>55.329647</td>\n",
              "      <td>71.707275</td>\n",
              "      <td>-63.688956</td>\n",
              "      <td>36.561863</td>\n",
              "      <td>81.868749</td>\n",
              "      <td>-52.752784</td>\n",
              "      <td>86.320630</td>\n",
              "      <td>68.214645</td>\n",
              "      <td>-72.228461</td>\n",
              "      <td>61.5961571288978</td>\n",
              "      <td>11.2506481750465</td>\n",
              "      <td>-68.9564252307431</td>\n",
              "      <td>77.3872254123912</td>\n",
              "      <td>42.7178334810919</td>\n",
              "      <td>-72.0151462991019</td>\n",
              "      <td>?</td>\n",
              "      <td>?</td>\n",
              "      <td>?</td>\n",
              "      <td>?</td>\n",
              "      <td>?</td>\n",
              "      <td>?</td>\n",
              "      <td>?</td>\n",
              "      <td>?</td>\n",
              "      <td>?</td>\n",
              "      <td>?</td>\n",
              "      <td>?</td>\n",
              "      <td>?</td>\n",
              "      <td>?</td>\n",
              "      <td>?</td>\n",
              "      <td>?</td>\n",
              "      <td>?</td>\n",
              "      <td>?</td>\n",
              "      <td>?</td>\n",
              "      <td>?</td>\n",
              "      <td>?</td>\n",
              "      <td>?</td>\n",
              "    </tr>\n",
              "    <tr>\n",
              "      <th>4</th>\n",
              "      <td>1</td>\n",
              "      <td>0</td>\n",
              "      <td>55.142401</td>\n",
              "      <td>71.435607</td>\n",
              "      <td>-64.177303</td>\n",
              "      <td>36.175818</td>\n",
              "      <td>81.556874</td>\n",
              "      <td>-53.475747</td>\n",
              "      <td>76.986143</td>\n",
              "      <td>42.426849</td>\n",
              "      <td>-72.574743</td>\n",
              "      <td>86.3687480605765</td>\n",
              "      <td>67.9012603746826</td>\n",
              "      <td>-72.4446499648169</td>\n",
              "      <td>61.2754021959714</td>\n",
              "      <td>10.8411094568665</td>\n",
              "      <td>-69.2799064015993</td>\n",
              "      <td>?</td>\n",
              "      <td>?</td>\n",
              "      <td>?</td>\n",
              "      <td>?</td>\n",
              "      <td>?</td>\n",
              "      <td>?</td>\n",
              "      <td>?</td>\n",
              "      <td>?</td>\n",
              "      <td>?</td>\n",
              "      <td>?</td>\n",
              "      <td>?</td>\n",
              "      <td>?</td>\n",
              "      <td>?</td>\n",
              "      <td>?</td>\n",
              "      <td>?</td>\n",
              "      <td>?</td>\n",
              "      <td>?</td>\n",
              "      <td>?</td>\n",
              "      <td>?</td>\n",
              "      <td>?</td>\n",
              "      <td>?</td>\n",
              "    </tr>\n",
              "  </tbody>\n",
              "</table>\n",
              "</div>"
            ],
            "text/plain": [
              "   Class  User         X0         Y0         Z0  ...  Y10  Z10  X11  Y11  Z11\n",
              "0      1     0  54.263880  71.466776 -64.807709  ...    ?    ?    ?    ?    ?\n",
              "1      1     0  56.527558  72.266609 -61.935252  ...    ?    ?    ?    ?    ?\n",
              "2      1     0  55.849928  72.469064 -62.562788  ...    ?    ?    ?    ?    ?\n",
              "3      1     0  55.329647  71.707275 -63.688956  ...    ?    ?    ?    ?    ?\n",
              "4      1     0  55.142401  71.435607 -64.177303  ...    ?    ?    ?    ?    ?\n",
              "\n",
              "[5 rows x 38 columns]"
            ]
          },
          "metadata": {
            "tags": []
          },
          "execution_count": 104
        }
      ]
    },
    {
      "cell_type": "code",
      "metadata": {
        "id": "Z_T9ZRvWqtmS"
      },
      "source": [
        "df = df.replace('?', 0.0)"
      ],
      "execution_count": null,
      "outputs": []
    },
    {
      "cell_type": "code",
      "metadata": {
        "colab": {
          "base_uri": "https://localhost:8080/",
          "height": 282
        },
        "id": "07BgzCLmxFqr",
        "outputId": "01ffeb0e-651f-481f-9832-6fbc1bbcb518"
      },
      "source": [
        "df.describe()"
      ],
      "execution_count": null,
      "outputs": [
        {
          "output_type": "execute_result",
          "data": {
            "text/html": [
              "<div>\n",
              "<style scoped>\n",
              "    .dataframe tbody tr th:only-of-type {\n",
              "        vertical-align: middle;\n",
              "    }\n",
              "\n",
              "    .dataframe tbody tr th {\n",
              "        vertical-align: top;\n",
              "    }\n",
              "\n",
              "    .dataframe thead th {\n",
              "        text-align: right;\n",
              "    }\n",
              "</style>\n",
              "<table border=\"1\" class=\"dataframe\">\n",
              "  <thead>\n",
              "    <tr style=\"text-align: right;\">\n",
              "      <th></th>\n",
              "      <th>Class</th>\n",
              "      <th>User</th>\n",
              "      <th>X0</th>\n",
              "      <th>Y0</th>\n",
              "      <th>Z0</th>\n",
              "      <th>X1</th>\n",
              "      <th>Y1</th>\n",
              "      <th>Z1</th>\n",
              "      <th>X2</th>\n",
              "      <th>Y2</th>\n",
              "      <th>Z2</th>\n",
              "    </tr>\n",
              "  </thead>\n",
              "  <tbody>\n",
              "    <tr>\n",
              "      <th>count</th>\n",
              "      <td>78095.000000</td>\n",
              "      <td>78095.000000</td>\n",
              "      <td>78095.000000</td>\n",
              "      <td>78095.000000</td>\n",
              "      <td>78095.000000</td>\n",
              "      <td>78095.000000</td>\n",
              "      <td>78095.000000</td>\n",
              "      <td>78095.000000</td>\n",
              "      <td>78095.000000</td>\n",
              "      <td>78095.000000</td>\n",
              "      <td>78095.000000</td>\n",
              "    </tr>\n",
              "    <tr>\n",
              "      <th>mean</th>\n",
              "      <td>2.983776</td>\n",
              "      <td>7.959229</td>\n",
              "      <td>50.346308</td>\n",
              "      <td>85.813150</td>\n",
              "      <td>-29.985096</td>\n",
              "      <td>49.595844</td>\n",
              "      <td>86.193751</td>\n",
              "      <td>-29.509579</td>\n",
              "      <td>48.612744</td>\n",
              "      <td>83.772387</td>\n",
              "      <td>-30.560906</td>\n",
              "    </tr>\n",
              "    <tr>\n",
              "      <th>std</th>\n",
              "      <td>1.421152</td>\n",
              "      <td>4.697754</td>\n",
              "      <td>32.695886</td>\n",
              "      <td>40.203448</td>\n",
              "      <td>34.361971</td>\n",
              "      <td>32.477961</td>\n",
              "      <td>40.452297</td>\n",
              "      <td>34.764460</td>\n",
              "      <td>33.605155</td>\n",
              "      <td>41.022710</td>\n",
              "      <td>35.120384</td>\n",
              "    </tr>\n",
              "    <tr>\n",
              "      <th>min</th>\n",
              "      <td>1.000000</td>\n",
              "      <td>0.000000</td>\n",
              "      <td>-108.552738</td>\n",
              "      <td>-98.233756</td>\n",
              "      <td>-126.770872</td>\n",
              "      <td>-111.685241</td>\n",
              "      <td>-96.142589</td>\n",
              "      <td>-166.006838</td>\n",
              "      <td>-106.886524</td>\n",
              "      <td>-100.789312</td>\n",
              "      <td>-129.595296</td>\n",
              "    </tr>\n",
              "    <tr>\n",
              "      <th>25%</th>\n",
              "      <td>2.000000</td>\n",
              "      <td>5.000000</td>\n",
              "      <td>29.295141</td>\n",
              "      <td>63.497746</td>\n",
              "      <td>-56.356593</td>\n",
              "      <td>28.755679</td>\n",
              "      <td>64.156450</td>\n",
              "      <td>-57.360408</td>\n",
              "      <td>25.173405</td>\n",
              "      <td>58.053733</td>\n",
              "      <td>-58.654339</td>\n",
              "    </tr>\n",
              "    <tr>\n",
              "      <th>50%</th>\n",
              "      <td>3.000000</td>\n",
              "      <td>9.000000</td>\n",
              "      <td>54.620245</td>\n",
              "      <td>86.526334</td>\n",
              "      <td>-30.864248</td>\n",
              "      <td>54.215714</td>\n",
              "      <td>87.543493</td>\n",
              "      <td>-30.185331</td>\n",
              "      <td>53.814592</td>\n",
              "      <td>86.459935</td>\n",
              "      <td>-32.356535</td>\n",
              "    </tr>\n",
              "    <tr>\n",
              "      <th>75%</th>\n",
              "      <td>4.000000</td>\n",
              "      <td>12.000000</td>\n",
              "      <td>72.488833</td>\n",
              "      <td>113.108673</td>\n",
              "      <td>-1.419462</td>\n",
              "      <td>71.763080</td>\n",
              "      <td>116.228881</td>\n",
              "      <td>-0.368080</td>\n",
              "      <td>71.561988</td>\n",
              "      <td>106.661720</td>\n",
              "      <td>-0.946134</td>\n",
              "    </tr>\n",
              "    <tr>\n",
              "      <th>max</th>\n",
              "      <td>5.000000</td>\n",
              "      <td>14.000000</td>\n",
              "      <td>190.017835</td>\n",
              "      <td>169.175464</td>\n",
              "      <td>113.345119</td>\n",
              "      <td>188.691997</td>\n",
              "      <td>170.209350</td>\n",
              "      <td>104.697852</td>\n",
              "      <td>188.760168</td>\n",
              "      <td>168.186466</td>\n",
              "      <td>104.590879</td>\n",
              "    </tr>\n",
              "  </tbody>\n",
              "</table>\n",
              "</div>"
            ],
            "text/plain": [
              "              Class          User  ...            Y2            Z2\n",
              "count  78095.000000  78095.000000  ...  78095.000000  78095.000000\n",
              "mean       2.983776      7.959229  ...     83.772387    -30.560906\n",
              "std        1.421152      4.697754  ...     41.022710     35.120384\n",
              "min        1.000000      0.000000  ...   -100.789312   -129.595296\n",
              "25%        2.000000      5.000000  ...     58.053733    -58.654339\n",
              "50%        3.000000      9.000000  ...     86.459935    -32.356535\n",
              "75%        4.000000     12.000000  ...    106.661720     -0.946134\n",
              "max        5.000000     14.000000  ...    168.186466    104.590879\n",
              "\n",
              "[8 rows x 11 columns]"
            ]
          },
          "metadata": {
            "tags": []
          },
          "execution_count": 106
        }
      ]
    },
    {
      "cell_type": "code",
      "metadata": {
        "colab": {
          "base_uri": "https://localhost:8080/"
        },
        "id": "BaNp0LsS6lml",
        "outputId": "80a633b7-6ae7-4379-8a17-5f4e930ad14f"
      },
      "source": [
        "df.info()"
      ],
      "execution_count": null,
      "outputs": [
        {
          "output_type": "stream",
          "text": [
            "<class 'pandas.core.frame.DataFrame'>\n",
            "RangeIndex: 78095 entries, 0 to 78094\n",
            "Data columns (total 38 columns):\n",
            " #   Column  Non-Null Count  Dtype  \n",
            "---  ------  --------------  -----  \n",
            " 0   Class   78095 non-null  int64  \n",
            " 1   User    78095 non-null  int64  \n",
            " 2   X0      78095 non-null  float64\n",
            " 3   Y0      78095 non-null  float64\n",
            " 4   Z0      78095 non-null  float64\n",
            " 5   X1      78095 non-null  float64\n",
            " 6   Y1      78095 non-null  float64\n",
            " 7   Z1      78095 non-null  float64\n",
            " 8   X2      78095 non-null  float64\n",
            " 9   Y2      78095 non-null  float64\n",
            " 10  Z2      78095 non-null  float64\n",
            " 11  X3      78095 non-null  object \n",
            " 12  Y3      78095 non-null  object \n",
            " 13  Z3      78095 non-null  object \n",
            " 14  X4      78095 non-null  object \n",
            " 15  Y4      78095 non-null  object \n",
            " 16  Z4      78095 non-null  object \n",
            " 17  X5      78095 non-null  object \n",
            " 18  Y5      78095 non-null  object \n",
            " 19  Z5      78095 non-null  object \n",
            " 20  X6      78095 non-null  object \n",
            " 21  Y6      78095 non-null  object \n",
            " 22  Z6      78095 non-null  object \n",
            " 23  X7      78095 non-null  object \n",
            " 24  Y7      78095 non-null  object \n",
            " 25  Z7      78095 non-null  object \n",
            " 26  X8      78095 non-null  object \n",
            " 27  Y8      78095 non-null  object \n",
            " 28  Z8      78095 non-null  object \n",
            " 29  X9      78095 non-null  object \n",
            " 30  Y9      78095 non-null  object \n",
            " 31  Z9      78095 non-null  object \n",
            " 32  X10     78095 non-null  object \n",
            " 33  Y10     78095 non-null  object \n",
            " 34  Z10     78095 non-null  object \n",
            " 35  X11     78095 non-null  object \n",
            " 36  Y11     78095 non-null  object \n",
            " 37  Z11     78095 non-null  object \n",
            "dtypes: float64(9), int64(2), object(27)\n",
            "memory usage: 22.6+ MB\n"
          ],
          "name": "stdout"
        }
      ]
    },
    {
      "cell_type": "code",
      "metadata": {
        "id": "M3gSRnBc6rGY"
      },
      "source": [
        "df = df.astype('float')"
      ],
      "execution_count": null,
      "outputs": []
    },
    {
      "cell_type": "code",
      "metadata": {
        "colab": {
          "base_uri": "https://localhost:8080/"
        },
        "id": "_mf9dofmUhVz",
        "outputId": "e2f442d9-11d1-4592-e7b2-fd99f4d76ce8"
      },
      "source": [
        "dfAux.User.value_counts()"
      ],
      "execution_count": null,
      "outputs": [
        {
          "output_type": "execute_result",
          "data": {
            "text/plain": [
              "10.0    8910\n",
              "11.0    7934\n",
              "13.0    6705\n",
              "8.0     6130\n",
              "14.0    5854\n",
              "0.0     5853\n",
              "5.0     4782\n",
              "12.0    4500\n",
              "6.0     4376\n",
              "9.0     3920\n",
              "1.0     2932\n",
              "2.0     2594\n",
              "7.0      370\n",
              "4.0      212\n",
              "Name: User, dtype: int64"
            ]
          },
          "metadata": {
            "tags": []
          },
          "execution_count": 109
        }
      ]
    },
    {
      "cell_type": "code",
      "metadata": {
        "id": "rAEfYwA61PJR"
      },
      "source": [
        "df1 = df.loc[dfAux['User'] == 0.0].sample(frac = 1)\n",
        "df2 = df.loc[dfAux['User'] == 5.0].sample(frac = 1)\n",
        "df3 = df.loc[dfAux['User'] == 12.0].sample(frac = 1)"
      ],
      "execution_count": null,
      "outputs": []
    },
    {
      "cell_type": "code",
      "metadata": {
        "id": "oRE7KBTH4YrS"
      },
      "source": [
        "dfTrain = pd.concat([df1Train,df2Train,df3Train,df4Train,df5Train]).sample(frac = 1)\n",
        "dfTeste = pd.concat([df1Test,df2Test,df3Test,df4Test,df5Test]).sample(frac = 1)"
      ],
      "execution_count": null,
      "outputs": []
    },
    {
      "cell_type": "code",
      "metadata": {
        "id": "20nhxqn15wGE"
      },
      "source": [
        "x_train = dfTrain.drop(columns = 'Class')\n",
        "y_train = dfTrain['Class']"
      ],
      "execution_count": null,
      "outputs": []
    },
    {
      "cell_type": "markdown",
      "metadata": {
        "id": "BLjDB1cH7Bpk"
      },
      "source": [
        "Normalizacao Z-Score"
      ]
    },
    {
      "cell_type": "code",
      "metadata": {
        "id": "imFqvEGp4y2z"
      },
      "source": [
        "x_mean = x_train.mean()\n",
        "x_std = x_train.std()\n",
        "x_normZ = (x_train-x_mean)/x_std"
      ],
      "execution_count": null,
      "outputs": []
    },
    {
      "cell_type": "markdown",
      "metadata": {
        "id": "Wz_jLFtk7EFl"
      },
      "source": [
        "Normalizacao MaxMin (pode ser removido)"
      ]
    },
    {
      "cell_type": "code",
      "metadata": {
        "id": "WBKFwN_J7Hm_"
      },
      "source": [
        "x_max = x_train.max()\n",
        "x_min = x_train.min()\n",
        "x_normMM = (x_train - x_min)/(x_max-x_min)"
      ],
      "execution_count": null,
      "outputs": []
    },
    {
      "cell_type": "markdown",
      "metadata": {
        "id": "5J06HTMx7fYO"
      },
      "source": [
        "PCA caso queira testar (pode ser removido)"
      ]
    },
    {
      "cell_type": "code",
      "metadata": {
        "id": "vzwCGyGc5R4H"
      },
      "source": [
        "corr = np.corrcoef(x_normZ,rowvar = False)"
      ],
      "execution_count": null,
      "outputs": []
    },
    {
      "cell_type": "code",
      "metadata": {
        "id": "sjp8EyWh6_Tp"
      },
      "source": [
        "eigvals,eigvect = np.linalg.eig(corr)"
      ],
      "execution_count": null,
      "outputs": []
    },
    {
      "cell_type": "code",
      "metadata": {
        "colab": {
          "base_uri": "https://localhost:8080/"
        },
        "id": "0g30zVvj7ylp",
        "outputId": "94efa768-2768-434a-f200-e6779d1bb117"
      },
      "source": [
        "eigvals/sum(eigvals)"
      ],
      "execution_count": null,
      "outputs": [
        {
          "output_type": "execute_result",
          "data": {
            "text/plain": [
              "array([0.23972351, 0.11123055, 0.09830255, 0.09022379, 0.09530997,\n",
              "       0.09264783, 0.02123596, 0.01805514, 0.01589898, 0.01670868,\n",
              "       0.04307571, 0.03803444, 0.04069202, 0.03987698, 0.03898388])"
            ]
          },
          "metadata": {
            "tags": []
          },
          "execution_count": 19
        }
      ]
    },
    {
      "cell_type": "code",
      "metadata": {
        "id": "13IkK4uf8WoH"
      },
      "source": [
        "#pc_feat = ['PC1','PC2','PC3','PC4','PC5','PC6','PC7','PC8','PC9','PC10','PC11','PC12','PC13']\n",
        "#x_pc = eigvect[:,[0,1,2,3,4,5,6,7,14,15,16,17,18,19,20]]"
      ],
      "execution_count": null,
      "outputs": []
    },
    {
      "cell_type": "code",
      "metadata": {
        "id": "9KPh4RVe9NRE"
      },
      "source": [
        "#x_dec = np.dot(x_normZ,x_pc)"
      ],
      "execution_count": null,
      "outputs": []
    },
    {
      "cell_type": "markdown",
      "metadata": {
        "id": "INWKiNyr7jai"
      },
      "source": [
        "Conjunto de Teste"
      ]
    },
    {
      "cell_type": "code",
      "metadata": {
        "id": "Tg24TLwU94Uf"
      },
      "source": [
        "x_test = dfTeste.drop(columns = 'Class')\n",
        "y_test = dfTeste['Class']"
      ],
      "execution_count": null,
      "outputs": []
    },
    {
      "cell_type": "markdown",
      "metadata": {
        "id": "0UDgD_cU7lV6"
      },
      "source": [
        "Z-Score"
      ]
    },
    {
      "cell_type": "code",
      "metadata": {
        "id": "TKNvsfVh-AHL"
      },
      "source": [
        "x_testZ = (x_test-x_mean)/x_std"
      ],
      "execution_count": null,
      "outputs": []
    },
    {
      "cell_type": "code",
      "metadata": {
        "id": "59Ppo53k9jMT"
      },
      "source": [
        "from sklearn.neural_network import MLPClassifier\n",
        "from sklearn.svm import SVC\n",
        "from sklearn.metrics import classification_report, confusion_matrix, accuracy_score"
      ],
      "execution_count": null,
      "outputs": []
    },
    {
      "cell_type": "markdown",
      "metadata": {
        "id": "ih_vGnUBuDft"
      },
      "source": [
        "Aplicações dos algoritmos foram testados com dados só normalizados  e dados normalizados + PCA. Só normalizados por Z-Score gerou melhor resultado"
      ]
    },
    {
      "cell_type": "code",
      "metadata": {
        "colab": {
          "background_save": true,
          "base_uri": "https://localhost:8080/"
        },
        "id": "Odit_kxN87M9",
        "outputId": "54baad04-4e71-4d68-84bc-c1e68b165f8b"
      },
      "source": [
        "svm = SVC(C= 9,\n",
        "          kernel='rbf',            # kernel{‘linear’, ‘poly’, ‘rbf’, ‘sigmoid’, ‘precomputed’}, default=’rbf’       \n",
        "          gamma='auto' ,           # se gamma='scale'(padrão) é passado, então ele usa 1 / (n_features * X.var ()) como valor de gama,\n",
        "                                   # se 'auto', usa 1 / n_features.\n",
        "          degree = 4,              # grau do polinomio para kernel poly\n",
        "          coef0 = 2,               # usa em poly e sigmoid\n",
        "          tol=0.01,                # Tolerância para critério de parada.\n",
        "          shrinking = True,        # uso da heurística de encolhimento\n",
        "          probability = False,      # usa 5-fold cross validation\n",
        "          cache_size=2048,         # Especifique o tamanho do cache do kernel (em MB).\n",
        "          verbose= False, \n",
        "          max_iter=-1,             # Limite rígido nas iterações no solver ou -1 para nenhum limite.\n",
        "          )\n",
        "\n",
        "svm.fit(x_normZ, y_train.values.ravel())\n",
        "\n",
        "print(\"Treino\\n\")\n",
        "predictions = svm.predict(x_normZ)\n",
        "confMatSVM = confusion_matrix(y_train,predictions)\n",
        "print(confMatSVM)\n",
        "print(classification_report(y_train,predictions))\n",
        "\n",
        "print(\"\\n____________________________________________________\\n\")\n",
        "print(\"\\n Teste\\n\")\n",
        "predictionsTestSvm = svm.predict(x_testZ)\n",
        "confMatSVM = confusion_matrix(y_test,predictionsTestSvm)\n",
        "print(confusion_matrix(y_test,predictionsTestSvm))\n",
        "print(classification_report(y_test,predictionsTestSvm))\n"
      ],
      "execution_count": null,
      "outputs": [
        {
          "output_type": "stream",
          "text": [
            "Treino\n",
            "\n",
            "[[13535     0     0     0     0]\n",
            " [    0 12086     0     0     0]\n",
            " [    0     0 13610     0     0]\n",
            " [    0     0     0 11853     0]\n",
            " [    0     0     0     0 12528]]\n",
            "              precision    recall  f1-score   support\n",
            "\n",
            "         1.0       1.00      1.00      1.00     13535\n",
            "         2.0       1.00      1.00      1.00     12086\n",
            "         3.0       1.00      1.00      1.00     13610\n",
            "         4.0       1.00      1.00      1.00     11853\n",
            "         5.0       1.00      1.00      1.00     12528\n",
            "\n",
            "    accuracy                           1.00     63612\n",
            "   macro avg       1.00      1.00      1.00     63612\n",
            "weighted avg       1.00      1.00      1.00     63612\n",
            "\n",
            "\n",
            "____________________________________________________\n",
            "\n",
            "\n",
            " Teste\n",
            "\n"
          ],
          "name": "stdout"
        },
        {
          "output_type": "error",
          "ename": "NameError",
          "evalue": "ignored",
          "traceback": [
            "\u001b[0;31m---------------------------------------------------------------------------\u001b[0m",
            "\u001b[0;31mNameError\u001b[0m                                 Traceback (most recent call last)",
            "\u001b[0;32m<ipython-input-29-9ebc0b03e870>\u001b[0m in \u001b[0;36m<module>\u001b[0;34m()\u001b[0m\n\u001b[1;32m     23\u001b[0m \u001b[0mprint\u001b[0m\u001b[0;34m(\u001b[0m\u001b[0;34m\"\\n____________________________________________________\\n\"\u001b[0m\u001b[0;34m)\u001b[0m\u001b[0;34m\u001b[0m\u001b[0;34m\u001b[0m\u001b[0m\n\u001b[1;32m     24\u001b[0m \u001b[0mprint\u001b[0m\u001b[0;34m(\u001b[0m\u001b[0;34m\"\\n Teste\\n\"\u001b[0m\u001b[0;34m)\u001b[0m\u001b[0;34m\u001b[0m\u001b[0;34m\u001b[0m\u001b[0m\n\u001b[0;32m---> 25\u001b[0;31m \u001b[0mpredictionsTestSvm\u001b[0m \u001b[0;34m=\u001b[0m \u001b[0msvm\u001b[0m\u001b[0;34m.\u001b[0m\u001b[0mpredict\u001b[0m\u001b[0;34m(\u001b[0m\u001b[0mx_test_norm\u001b[0m\u001b[0;34m)\u001b[0m\u001b[0;34m\u001b[0m\u001b[0;34m\u001b[0m\u001b[0m\n\u001b[0m\u001b[1;32m     26\u001b[0m \u001b[0mconfMatSVM\u001b[0m \u001b[0;34m=\u001b[0m \u001b[0mconfusion_matrix\u001b[0m\u001b[0;34m(\u001b[0m\u001b[0my_test\u001b[0m\u001b[0;34m,\u001b[0m\u001b[0mpredictionsTestSvm\u001b[0m\u001b[0;34m)\u001b[0m\u001b[0;34m\u001b[0m\u001b[0;34m\u001b[0m\u001b[0m\n\u001b[1;32m     27\u001b[0m \u001b[0mprint\u001b[0m\u001b[0;34m(\u001b[0m\u001b[0mconfusion_matrix\u001b[0m\u001b[0;34m(\u001b[0m\u001b[0my_test\u001b[0m\u001b[0;34m,\u001b[0m\u001b[0mpredictionsTestSvm\u001b[0m\u001b[0;34m)\u001b[0m\u001b[0;34m)\u001b[0m\u001b[0;34m\u001b[0m\u001b[0;34m\u001b[0m\u001b[0m\n",
            "\u001b[0;31mNameError\u001b[0m: name 'x_test_norm' is not defined"
          ]
        }
      ]
    },
    {
      "cell_type": "markdown",
      "metadata": {
        "id": "YdOwhc2G1Eak"
      },
      "source": [
        "MLP (usando SKLearn) não gerou resultados ideais."
      ]
    },
    {
      "cell_type": "code",
      "metadata": {
        "colab": {
          "base_uri": "https://localhost:8080/"
        },
        "id": "g77ffsfpETod",
        "outputId": "d7afc8bc-1433-47ab-b871-019ab40f3ac0"
      },
      "source": [
        "mlp1 = MLPClassifier(solver = 'adam',    #adam, sgd, lbfgs\n",
        "                     activation ='relu',       #identity, logistic, tanh, relu\n",
        "                     hidden_layer_sizes=(10,10,10), \n",
        "                     alpha = 0.01,\n",
        "                     learning_rate = 'constant',    #constant, invscaling, adaptive . só para sgd\n",
        "                     learning_rate_init = 0.005,    #so para sgd\n",
        "                     power_t = 0.1,                 #so para sgd, usando invscaling\n",
        "                     momentum = 0.9,                #so para sgd\n",
        "                     nesterovs_momentum = True,      #so para sgd e se momentum > 0\n",
        "                     beta_1 = 0.9,                  #so para adam\n",
        "                     beta_2 = 0.99,                  #so para adam\n",
        "                     epsilon = 1e-8,                #so para adam\n",
        "                     tol = 1e-5,\n",
        "                     max_iter=1000,\n",
        "                     verbose = False, \n",
        "                     early_stopping= False,\n",
        "                     validation_fraction= 0.2,      #so se early stopping = true\n",
        "                     shuffle = True, \n",
        "                     n_iter_no_change = 20)\n",
        "\n",
        "mlp1.fit(x_normZ,y_train.values.ravel())\n",
        "\n",
        "print(\"Treino\\n\")\n",
        "predictions = mlp1.predict(x_normZ)\n",
        "confMat1MLP = confusion_matrix(y_train,predictions)\n",
        "print(confMat1MLP)\n",
        "print(classification_report(y_train,predictions))\n",
        "\n",
        "\n",
        "print(\"\\n__________________\\n\")\n",
        "print(\"\\n Teste\\n\")\n",
        "predictionsTestMlp = mlp1.predict(x_testZ)\n",
        "confMat2MLP = confusion_matrix(y_test,predictionsTestMlp)\n",
        "print(confMat2MLP)\n",
        "print(classification_report(y_test,predictionsTestMlp))"
      ],
      "execution_count": null,
      "outputs": [
        {
          "output_type": "stream",
          "text": [
            "Treino\n",
            "\n",
            "[[10976    53   179    33    39]\n",
            " [  114  7790   801  1885   690]\n",
            " [  210    69 10209   603   189]\n",
            " [  145   667  2192  7861   415]\n",
            " [   73   354   491   709  9653]]\n",
            "              precision    recall  f1-score   support\n",
            "\n",
            "         1.0       0.95      0.97      0.96     11280\n",
            "         2.0       0.87      0.69      0.77     11280\n",
            "         3.0       0.74      0.91      0.81     11280\n",
            "         4.0       0.71      0.70      0.70     11280\n",
            "         5.0       0.88      0.86      0.87     11280\n",
            "\n",
            "    accuracy                           0.82     56400\n",
            "   macro avg       0.83      0.82      0.82     56400\n",
            "weighted avg       0.83      0.82      0.82     56400\n",
            "\n",
            "\n",
            "__________________\n",
            "\n",
            "\n",
            " Teste\n",
            "\n",
            "[[2728   15   61    8    8]\n",
            " [  18 1947  197  495  163]\n",
            " [  54   15 2553  146   52]\n",
            " [  47  170  559 1925  119]\n",
            " [  25   86  127  205 2377]]\n",
            "              precision    recall  f1-score   support\n",
            "\n",
            "         1.0       0.95      0.97      0.96      2820\n",
            "         2.0       0.87      0.69      0.77      2820\n",
            "         3.0       0.73      0.91      0.81      2820\n",
            "         4.0       0.69      0.68      0.69      2820\n",
            "         5.0       0.87      0.84      0.86      2820\n",
            "\n",
            "    accuracy                           0.82     14100\n",
            "   macro avg       0.82      0.82      0.82     14100\n",
            "weighted avg       0.82      0.82      0.82     14100\n",
            "\n"
          ],
          "name": "stdout"
        }
      ]
    }
  ]
}